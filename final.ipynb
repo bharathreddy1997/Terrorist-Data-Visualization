{
 "cells": [
  {
   "cell_type": "code",
   "execution_count": 1,
   "metadata": {},
   "outputs": [],
   "source": [
    "import numpy as np\n",
    "import pandas as pd\n",
    "from bokeh.io import show, output_file\n",
    "from bokeh.plotting import figure\n",
    "import matplotlib.pyplot as plt\n",
    "get_ipython().run_line_magic('matplotlib', 'inline')"
   ]
  },
  {
   "cell_type": "code",
   "execution_count": 3,
   "metadata": {},
   "outputs": [],
   "source": [
    "terror = pd.read_csv(\"C:/Users/Reddy/Desktop/visual dataset/globalterrorismdb_0718dist.csv\", encoding=\"ISO-8859-1\")\n"
   ]
  },
  {
   "cell_type": "code",
   "execution_count": 5,
   "metadata": {},
   "outputs": [
    {
     "data": {
      "text/plain": [
       "(181691, 135)"
      ]
     },
     "execution_count": 5,
     "metadata": {},
     "output_type": "execute_result"
    }
   ],
   "source": [
    "terror.shape\n"
   ]
  },
  {
   "cell_type": "markdown",
   "metadata": {},
   "source": [
    "check for the type for the data"
   ]
  },
  {
   "cell_type": "markdown",
   "metadata": {},
   "source": [
    "check for the number fo missing values"
   ]
  },
  {
   "cell_type": "code",
   "execution_count": 6,
   "metadata": {},
   "outputs": [
    {
     "data": {
      "text/plain": [
       "eventid            0\n",
       "iyear              0\n",
       "imonth             0\n",
       "iday               0\n",
       "approxdate    172452\n",
       "               ...  \n",
       "INT_LOG            0\n",
       "INT_IDEO           0\n",
       "INT_MISC           0\n",
       "INT_ANY            0\n",
       "related       156653\n",
       "Length: 135, dtype: int64"
      ]
     },
     "execution_count": 6,
     "metadata": {},
     "output_type": "execute_result"
    }
   ],
   "source": [
    "terror.isnull().sum()\n"
   ]
  },
  {
   "cell_type": "code",
   "execution_count": 4,
   "metadata": {},
   "outputs": [
    {
     "data": {
      "text/plain": [
       "eventid        int64\n",
       "iyear          int64\n",
       "imonth         int64\n",
       "iday           int64\n",
       "approxdate    object\n",
       "               ...  \n",
       "INT_LOG        int64\n",
       "INT_IDEO       int64\n",
       "INT_MISC       int64\n",
       "INT_ANY        int64\n",
       "related       object\n",
       "Length: 135, dtype: object"
      ]
     },
     "execution_count": 4,
     "metadata": {},
     "output_type": "execute_result"
    }
   ],
   "source": [
    "terror.dtypes\n"
   ]
  },
  {
   "cell_type": "code",
   "execution_count": null,
   "metadata": {},
   "outputs": [],
   "source": [
    "terror.isnull().sum()\n"
   ]
  },
  {
   "cell_type": "markdown",
   "metadata": {},
   "source": [
    "renaming columns  "
   ]
  },
  {
   "cell_type": "code",
   "execution_count": 7,
   "metadata": {},
   "outputs": [],
   "source": [
    "terror.rename(columns={'iyear':'Year','imonth':'Month','iday':'Day','country_txt':'Country','region_txt':'Region','attacktype1_txt':'AttackType','target1':'Target','nkill':'Killed','nwound':'Wounded','summary':'Summary','gname':'Group','targtype1_txt':'Target_type','weaptype1_txt':'Weapon_type','motive':'Motive'},inplace=True)\n"
   ]
  },
  {
   "cell_type": "code",
   "execution_count": 8,
   "metadata": {},
   "outputs": [],
   "source": [
    "terror=terror[['Year','Month','Day','Country','Region','city','latitude','longitude','AttackType','Killed','Wounded','Target','Summary','Group','Target_type','Weapon_type','Motive']]\n"
   ]
  },
  {
   "cell_type": "markdown",
   "metadata": {},
   "source": [
    "creating casualties frame"
   ]
  },
  {
   "cell_type": "code",
   "execution_count": 9,
   "metadata": {},
   "outputs": [],
   "source": [
    "terror['casualities']=terror['Killed']+terror['Wounded']\n"
   ]
  },
  {
   "cell_type": "code",
   "execution_count": 10,
   "metadata": {},
   "outputs": [
    {
     "data": {
      "text/html": [
       "<div>\n",
       "<style scoped>\n",
       "    .dataframe tbody tr th:only-of-type {\n",
       "        vertical-align: middle;\n",
       "    }\n",
       "\n",
       "    .dataframe tbody tr th {\n",
       "        vertical-align: top;\n",
       "    }\n",
       "\n",
       "    .dataframe thead th {\n",
       "        text-align: right;\n",
       "    }\n",
       "</style>\n",
       "<table border=\"1\" class=\"dataframe\">\n",
       "  <thead>\n",
       "    <tr style=\"text-align: right;\">\n",
       "      <th></th>\n",
       "      <th>Killed</th>\n",
       "      <th>Wounded</th>\n",
       "      <th>casualities</th>\n",
       "    </tr>\n",
       "    <tr>\n",
       "      <th>Region</th>\n",
       "      <th></th>\n",
       "      <th></th>\n",
       "      <th></th>\n",
       "    </tr>\n",
       "  </thead>\n",
       "  <tbody>\n",
       "    <tr>\n",
       "      <td>Australasia &amp; Oceania</td>\n",
       "      <td>150.0</td>\n",
       "      <td>260.0</td>\n",
       "      <td>409.0</td>\n",
       "    </tr>\n",
       "    <tr>\n",
       "      <td>Central America &amp; Caribbean</td>\n",
       "      <td>28708.0</td>\n",
       "      <td>8991.0</td>\n",
       "      <td>34530.0</td>\n",
       "    </tr>\n",
       "    <tr>\n",
       "      <td>Central Asia</td>\n",
       "      <td>1000.0</td>\n",
       "      <td>2009.0</td>\n",
       "      <td>2969.0</td>\n",
       "    </tr>\n",
       "    <tr>\n",
       "      <td>East Asia</td>\n",
       "      <td>1152.0</td>\n",
       "      <td>9213.0</td>\n",
       "      <td>10003.0</td>\n",
       "    </tr>\n",
       "    <tr>\n",
       "      <td>Eastern Europe</td>\n",
       "      <td>7415.0</td>\n",
       "      <td>12045.0</td>\n",
       "      <td>18239.0</td>\n",
       "    </tr>\n",
       "    <tr>\n",
       "      <td>Middle East &amp; North Africa</td>\n",
       "      <td>137642.0</td>\n",
       "      <td>214308.0</td>\n",
       "      <td>329807.0</td>\n",
       "    </tr>\n",
       "    <tr>\n",
       "      <td>North America</td>\n",
       "      <td>4916.0</td>\n",
       "      <td>21531.0</td>\n",
       "      <td>26398.0</td>\n",
       "    </tr>\n",
       "    <tr>\n",
       "      <td>South America</td>\n",
       "      <td>28849.0</td>\n",
       "      <td>16704.0</td>\n",
       "      <td>43562.0</td>\n",
       "    </tr>\n",
       "    <tr>\n",
       "      <td>South Asia</td>\n",
       "      <td>101319.0</td>\n",
       "      <td>141360.0</td>\n",
       "      <td>234366.0</td>\n",
       "    </tr>\n",
       "    <tr>\n",
       "      <td>Southeast Asia</td>\n",
       "      <td>15637.0</td>\n",
       "      <td>26259.0</td>\n",
       "      <td>40841.0</td>\n",
       "    </tr>\n",
       "    <tr>\n",
       "      <td>Sub-Saharan Africa</td>\n",
       "      <td>78386.0</td>\n",
       "      <td>52857.0</td>\n",
       "      <td>108990.0</td>\n",
       "    </tr>\n",
       "    <tr>\n",
       "      <td>Western Europe</td>\n",
       "      <td>6694.0</td>\n",
       "      <td>18332.0</td>\n",
       "      <td>22778.0</td>\n",
       "    </tr>\n",
       "  </tbody>\n",
       "</table>\n",
       "</div>"
      ],
      "text/plain": [
       "                               Killed   Wounded  casualities\n",
       "Region                                                      \n",
       "Australasia & Oceania           150.0     260.0        409.0\n",
       "Central America & Caribbean   28708.0    8991.0      34530.0\n",
       "Central Asia                   1000.0    2009.0       2969.0\n",
       "East Asia                      1152.0    9213.0      10003.0\n",
       "Eastern Europe                 7415.0   12045.0      18239.0\n",
       "Middle East & North Africa   137642.0  214308.0     329807.0\n",
       "North America                  4916.0   21531.0      26398.0\n",
       "South America                 28849.0   16704.0      43562.0\n",
       "South Asia                   101319.0  141360.0     234366.0\n",
       "Southeast Asia                15637.0   26259.0      40841.0\n",
       "Sub-Saharan Africa            78386.0   52857.0     108990.0\n",
       "Western Europe                 6694.0   18332.0      22778.0"
      ]
     },
     "execution_count": 10,
     "metadata": {},
     "output_type": "execute_result"
    }
   ],
   "source": [
    "region = terror[['Region','Killed','Wounded','casualities']].copy()\n",
    "region = region.groupby(by=['Region']).sum()\n",
    "region"
   ]
  },
  {
   "cell_type": "code",
   "execution_count": 11,
   "metadata": {},
   "outputs": [],
   "source": [
    "from bokeh.models import NumeralTickFormatter\n",
    "from bokeh.layouts import gridplot\n",
    "from bokeh.models import ColumnDataSource\n",
    "from math import pi\n",
    "from bokeh.io import output_notebook\n",
    "from bokeh.io import export_png\n",
    "from bokeh.io import curdoc, output_notebook\n",
    "from bokeh.models import HoverTool\n",
    "#from bokeh.layouts import widgetbox, row, column\n",
    "from bokeh.palettes import brewer\n",
    "from bokeh.models import FixedTicker,NumeralTickFormatter\n"
   ]
  },
  {
   "cell_type": "code",
   "execution_count": 12,
   "metadata": {},
   "outputs": [],
   "source": [
    "trend = terror.groupby(['Region','Year']).size().reset_index().rename(columns={0:'Killed'})\n",
    "\n",
    "regions =trend.Region.unique()\n",
    "regions\n",
    "\n",
    "years= trend.Year.unique()"
   ]
  },
  {
   "cell_type": "code",
   "execution_count": 13,
   "metadata": {},
   "outputs": [
    {
     "data": {
      "text/html": [
       "<div>\n",
       "<style scoped>\n",
       "    .dataframe tbody tr th:only-of-type {\n",
       "        vertical-align: middle;\n",
       "    }\n",
       "\n",
       "    .dataframe tbody tr th {\n",
       "        vertical-align: top;\n",
       "    }\n",
       "\n",
       "    .dataframe thead th {\n",
       "        text-align: right;\n",
       "    }\n",
       "</style>\n",
       "<table border=\"1\" class=\"dataframe\">\n",
       "  <thead>\n",
       "    <tr style=\"text-align: right;\">\n",
       "      <th></th>\n",
       "      <th>Region</th>\n",
       "      <th>Year</th>\n",
       "      <th>Killed</th>\n",
       "    </tr>\n",
       "  </thead>\n",
       "  <tbody>\n",
       "    <tr>\n",
       "      <td>0</td>\n",
       "      <td>Australasia &amp; Oceania</td>\n",
       "      <td>1970</td>\n",
       "      <td>1</td>\n",
       "    </tr>\n",
       "    <tr>\n",
       "      <td>1</td>\n",
       "      <td>Australasia &amp; Oceania</td>\n",
       "      <td>1971</td>\n",
       "      <td>1</td>\n",
       "    </tr>\n",
       "    <tr>\n",
       "      <td>2</td>\n",
       "      <td>Australasia &amp; Oceania</td>\n",
       "      <td>1972</td>\n",
       "      <td>8</td>\n",
       "    </tr>\n",
       "    <tr>\n",
       "      <td>3</td>\n",
       "      <td>Australasia &amp; Oceania</td>\n",
       "      <td>1973</td>\n",
       "      <td>1</td>\n",
       "    </tr>\n",
       "    <tr>\n",
       "      <td>4</td>\n",
       "      <td>Australasia &amp; Oceania</td>\n",
       "      <td>1974</td>\n",
       "      <td>1</td>\n",
       "    </tr>\n",
       "    <tr>\n",
       "      <td>...</td>\n",
       "      <td>...</td>\n",
       "      <td>...</td>\n",
       "      <td>...</td>\n",
       "    </tr>\n",
       "    <tr>\n",
       "      <td>524</td>\n",
       "      <td>Western Europe</td>\n",
       "      <td>2013</td>\n",
       "      <td>261</td>\n",
       "    </tr>\n",
       "    <tr>\n",
       "      <td>525</td>\n",
       "      <td>Western Europe</td>\n",
       "      <td>2014</td>\n",
       "      <td>215</td>\n",
       "    </tr>\n",
       "    <tr>\n",
       "      <td>526</td>\n",
       "      <td>Western Europe</td>\n",
       "      <td>2015</td>\n",
       "      <td>333</td>\n",
       "    </tr>\n",
       "    <tr>\n",
       "      <td>527</td>\n",
       "      <td>Western Europe</td>\n",
       "      <td>2016</td>\n",
       "      <td>273</td>\n",
       "    </tr>\n",
       "    <tr>\n",
       "      <td>528</td>\n",
       "      <td>Western Europe</td>\n",
       "      <td>2017</td>\n",
       "      <td>291</td>\n",
       "    </tr>\n",
       "  </tbody>\n",
       "</table>\n",
       "<p>529 rows × 3 columns</p>\n",
       "</div>"
      ],
      "text/plain": [
       "                    Region  Year  Killed\n",
       "0    Australasia & Oceania  1970       1\n",
       "1    Australasia & Oceania  1971       1\n",
       "2    Australasia & Oceania  1972       8\n",
       "3    Australasia & Oceania  1973       1\n",
       "4    Australasia & Oceania  1974       1\n",
       "..                     ...   ...     ...\n",
       "524         Western Europe  2013     261\n",
       "525         Western Europe  2014     215\n",
       "526         Western Europe  2015     333\n",
       "527         Western Europe  2016     273\n",
       "528         Western Europe  2017     291\n",
       "\n",
       "[529 rows x 3 columns]"
      ]
     },
     "execution_count": 13,
     "metadata": {},
     "output_type": "execute_result"
    }
   ],
   "source": [
    "trend"
   ]
  },
  {
   "cell_type": "code",
   "execution_count": 14,
   "metadata": {},
   "outputs": [],
   "source": [
    "import geopandas as gpd\n",
    "shapefile ='C:/Users/Reddy/Desktop/shape/ne_110m_admin_0_countries.shp'\n",
    "globalter = gpd.read_file(shapefile)[['ADMIN', 'ADM0_A3', 'geometry']]\n",
    "#Rename columns.\n",
    "globalter.columns = ['Country', 'country_code', 'geometry']\n",
    "#sorting dataframe\n",
    "globalter.sort_values(by=['Country'], inplace=True)\n",
    "#reseting index\n",
    "globalter.reset_index(drop=True, inplace=True)"
   ]
  },
  {
   "cell_type": "code",
   "execution_count": 15,
   "metadata": {},
   "outputs": [],
   "source": [
    "df= terror[['Country', 'Killed', 'Wounded' ]].groupby(by=\"Country\").sum()\n",
    "df.reset_index(inplace=True)\n",
    "df['Casulties'] = df.Killed + df.Wounded\n",
    "#sorting by country name\n",
    "df.sort_values(by=['Country'],  inplace=True)\n",
    "#reset index\n",
    "df.reset_index(drop=True, inplace=True)"
   ]
  },
  {
   "cell_type": "markdown",
   "metadata": {},
   "source": []
  },
  {
   "cell_type": "markdown",
   "metadata": {},
   "source": [
    "country names in shape file dataframe(globalter) and csv dataframe df must match to show countries on map choropleth\n"
   ]
  },
  {
   "cell_type": "code",
   "execution_count": 16,
   "metadata": {},
   "outputs": [],
   "source": [
    "def get_countries_with_space(df):\n",
    "    #returns -1 whnen character is not found\n",
    "    #getting indexes of name containing spaces\n",
    "    result_df= np.core.defchararray.find(df.astype(str), ' ')\n",
    "    #print(result_df)\n",
    "    indexes = np.where(result_df != -1)\n",
    "    #print(indexes)\n",
    "    return indexes,df[indexes]"
   ]
  },
  {
   "cell_type": "code",
   "execution_count": 17,
   "metadata": {},
   "outputs": [],
   "source": [
    "df_countries= np.array(df.Country)\n",
    "\n",
    "index_df, countries_df = get_countries_with_space(df_countries)\n"
   ]
  },
  {
   "cell_type": "code",
   "execution_count": null,
   "metadata": {},
   "outputs": [],
   "source": [
    "changing names of countries "
   ]
  },
  {
   "cell_type": "code",
   "execution_count": 18,
   "metadata": {},
   "outputs": [],
   "source": [
    "replacement_df= ['Antigua and Barbuda', 'Burkina Faso', 'Central African Republic',\n",
    " 'Costa Rica', 'Czechia', 'Republic of the Congo',\n",
    " 'Dominican Republic', 'Germany' ,'East Timor' ,'El Salvador',\n",
    " 'Equatorial Guinea' ,'Falkland Islands' ,'Guyana', 'French Polynesia',\n",
    " 'Hong Kong', 'Ivory Coast', 'New Caledonia', 'New Hebrides', 'New Zealand',\n",
    " 'North Korea', 'Yemen', 'Papua New Guinea',\n",
    " \"Democratic Republic of the Congo\", 'Republic of the Congo', 'Saudi Arabia',\n",
    " 'Sierra Leone', 'Slovak Republic', 'Solomon Islands', 'South Africa',\n",
    " 'South Korea', 'South Sudan', 'Vietnam', 'Yemen', 'Russia',\n",
    " 'Sri Lanka', 'St. Kitts and Nevis', 'St. Lucia', 'Trinidad and Tobago',\n",
    " 'United Arab Emirates', 'United Kingdom', 'United States of America', 'Vatican City',\n",
    " 'Wallis and Futuna', 'West Bank and Gaza Strip', 'Germany','Western Sahara']\n"
   ]
  },
  {
   "cell_type": "code",
   "execution_count": 19,
   "metadata": {},
   "outputs": [],
   "source": [
    "df_countries[index_df] = replacement_df\n",
    "\n",
    "df.Country= df_countries"
   ]
  },
  {
   "cell_type": "code",
   "execution_count": 20,
   "metadata": {},
   "outputs": [],
   "source": [
    "globalter_countries = np.array(globalter.Country)\n",
    "df_countries = np.array(df.Country)\n",
    "\n",
    "#getting nonnmatching values from globalter\n",
    "nonmached_globalter=[]\n",
    "for i in globalter_countries:\n",
    "    if i not in df_countries:\n",
    "        nonmached_globalter.append(i)"
   ]
  },
  {
   "cell_type": "markdown",
   "metadata": {},
   "source": [
    "getting nonnmatching values from df\n"
   ]
  },
  {
   "cell_type": "code",
   "execution_count": 21,
   "metadata": {},
   "outputs": [],
   "source": [
    "nonmached_df=[]\n",
    "indexes = []\n",
    "count=0\n",
    "for i in df_countries:\n",
    "    if i not in globalter_countries:\n",
    "        nonmached_df.append(i)\n",
    "        indexes.append(count)\n",
    "    count = count +1\n",
    "\n",
    "replacement= ['Andorra', 'Antigua and Barbuda', 'The Bahamas', 'Bahrain', 'Barbados', 'Bosnia and Herzegovina', 'Comoros', 'Czechia',\n",
    "              'Dominica', 'French Polynesia', 'Grenada', 'Guadeloupe', 'Hong Kong', 'International', 'Macau', 'Maldives', 'Malta',\n",
    "              'Martinique', 'Mauritius', 'New Hebrides', 'Rhodesia', 'Republic of Serbia', 'Republic of Serbia', 'Seychelles', 'Singapore',\n",
    "              'Slovakia', 'St. Kitts and Nevis', 'St. Lucia','Swaziland', 'United Republic of Tanzania', 'Vatican City', 'Wallis and Futuna',\n",
    "              'West Bank and Gaza Strip', 'Yugoslavia', 'Zaire']"
   ]
  },
  {
   "cell_type": "raw",
   "metadata": {},
   "source": [
    "replacing the values"
   ]
  },
  {
   "cell_type": "code",
   "execution_count": null,
   "metadata": {},
   "outputs": [],
   "source": [
    "df_countries[indexes] = replacement\n",
    "#replacing dataframe\n",
    "df.Country = df_countries"
   ]
  },
  {
   "cell_type": "markdown",
   "metadata": {},
   "source": [
    "summing the duplicate countries to merge"
   ]
  },
  {
   "cell_type": "code",
   "execution_count": 22,
   "metadata": {},
   "outputs": [],
   "source": [
    "df= df.groupby(by='Country').sum()\n",
    "df.reset_index(inplace= True)"
   ]
  },
  {
   "cell_type": "markdown",
   "metadata": {},
   "source": [
    "merging the countries"
   ]
  },
  {
   "cell_type": "code",
   "execution_count": 23,
   "metadata": {},
   "outputs": [],
   "source": [
    "merged_df = globalter.merge(df, left_on = 'Country', right_on = 'Country',  how = 'left')\n",
    "merged_df= merged_df.sort_values(by='Casulties', ascending= False )\n",
    "merged_df.dropna( inplace = True)\n"
   ]
  },
  {
   "cell_type": "code",
   "execution_count": 24,
   "metadata": {},
   "outputs": [],
   "source": [
    "import json\n",
    "#Read data to json.\n",
    "merged_json = json.loads(merged_df.to_json())\n",
    "#Convert to String like object.\n",
    "json_data = json.dumps(merged_json)"
   ]
  },
  {
   "cell_type": "markdown",
   "metadata": {},
   "source": [
    "creating a choropleth"
   ]
  },
  {
   "cell_type": "code",
   "execution_count": 25,
   "metadata": {},
   "outputs": [],
   "source": [
    "from bokeh.io import output_notebook, show, output_file\n",
    "from bokeh.plotting import figure\n",
    "from bokeh.io import save\n",
    "from bokeh.models import GeoJSONDataSource, LinearColorMapper, ColorBar\n",
    "from bokeh.palettes import brewer\n",
    "\n",
    "geosource = GeoJSONDataSource(geojson = json_data)"
   ]
  },
  {
   "cell_type": "code",
   "execution_count": 26,
   "metadata": {},
   "outputs": [],
   "source": [
    "palette = brewer[\"YlOrRd\"][8]\n",
    "color_mapper = LinearColorMapper (palette = palette, low=0 ,high=max(merged_df.Casulties))\n",
    "max_toll = merged_df.Casulties.max()\n",
    "ticker = FixedTicker(ticks=[0,(max_toll*0.20),(max_toll*0.40),(max_toll*0.60),(max_toll*0.80),(max_toll)])"
   ]
  },
  {
   "cell_type": "code",
   "execution_count": 27,
   "metadata": {},
   "outputs": [],
   "source": [
    "color_bar = ColorBar(color_mapper=color_mapper,width = 800, height = 20,ticker = ticker, formatter = NumeralTickFormatter(format=\",\"),\n",
    "border_line_color=None, orientation = 'horizontal', location=(0, 0) )"
   ]
  },
  {
   "cell_type": "code",
   "execution_count": 28,
   "metadata": {},
   "outputs": [],
   "source": [
    "hover = HoverTool(tooltips = [ ('Country','@Country'),('KIlled', '@Killed')])\n",
    "#Create figure object.\n",
    "p = figure(title = 'Worldwide Casualties', plot_height = 600 , plot_width = 950,\n",
    "           tools = [hover,\"pan,wheel_zoom,box_zoom,reset\" ],\n",
    "           toolbar_location = \"left\")"
   ]
  },
  {
   "cell_type": "code",
   "execution_count": 29,
   "metadata": {},
   "outputs": [],
   "source": [
    "#Add patch renderer to figure.\n",
    "p.patches('xs','ys', source = geosource,fill_color = {'field' :'Casulties', 'transform' : color_mapper},\n",
    "          line_color = 'white', line_width = 1, fill_alpha = 0.7)\n",
    "#Specify figure layout.\n",
    "p.add_layout(color_bar, 'below')\n",
    "\n",
    "show(p)\n"
   ]
  },
  {
   "cell_type": "markdown",
   "metadata": {},
   "source": [
    "second map"
   ]
  },
  {
   "cell_type": "code",
   "execution_count": 30,
   "metadata": {},
   "outputs": [],
   "source": [
    "import folium\n",
    "from folium import plugins\n",
    "from folium.plugins import HeatMap"
   ]
  },
  {
   "cell_type": "code",
   "execution_count": 32,
   "metadata": {},
   "outputs": [
    {
     "data": {
      "text/html": [
       "<div>\n",
       "<style scoped>\n",
       "    .dataframe tbody tr th:only-of-type {\n",
       "        vertical-align: middle;\n",
       "    }\n",
       "\n",
       "    .dataframe tbody tr th {\n",
       "        vertical-align: top;\n",
       "    }\n",
       "\n",
       "    .dataframe thead th {\n",
       "        text-align: right;\n",
       "    }\n",
       "</style>\n",
       "<table border=\"1\" class=\"dataframe\">\n",
       "  <thead>\n",
       "    <tr style=\"text-align: right;\">\n",
       "      <th></th>\n",
       "      <th>city</th>\n",
       "      <th>attackcount</th>\n",
       "    </tr>\n",
       "  </thead>\n",
       "  <tbody>\n",
       "    <tr>\n",
       "      <td>0</td>\n",
       "      <td>Baghdad</td>\n",
       "      <td>7589</td>\n",
       "    </tr>\n",
       "    <tr>\n",
       "      <td>1</td>\n",
       "      <td>Karachi</td>\n",
       "      <td>2652</td>\n",
       "    </tr>\n",
       "    <tr>\n",
       "      <td>2</td>\n",
       "      <td>Lima</td>\n",
       "      <td>2359</td>\n",
       "    </tr>\n",
       "    <tr>\n",
       "      <td>3</td>\n",
       "      <td>Mosul</td>\n",
       "      <td>2265</td>\n",
       "    </tr>\n",
       "    <tr>\n",
       "      <td>4</td>\n",
       "      <td>Belfast</td>\n",
       "      <td>2171</td>\n",
       "    </tr>\n",
       "    <tr>\n",
       "      <td>...</td>\n",
       "      <td>...</td>\n",
       "      <td>...</td>\n",
       "    </tr>\n",
       "    <tr>\n",
       "      <td>95</td>\n",
       "      <td>Batticaloa</td>\n",
       "      <td>165</td>\n",
       "    </tr>\n",
       "    <tr>\n",
       "      <td>96</td>\n",
       "      <td>Tegucigalpa</td>\n",
       "      <td>164</td>\n",
       "    </tr>\n",
       "    <tr>\n",
       "      <td>98</td>\n",
       "      <td>Berlin</td>\n",
       "      <td>160</td>\n",
       "    </tr>\n",
       "    <tr>\n",
       "      <td>97</td>\n",
       "      <td>Jamrud</td>\n",
       "      <td>160</td>\n",
       "    </tr>\n",
       "    <tr>\n",
       "      <td>99</td>\n",
       "      <td>New Delhi</td>\n",
       "      <td>157</td>\n",
       "    </tr>\n",
       "  </tbody>\n",
       "</table>\n",
       "<p>100 rows × 2 columns</p>\n",
       "</div>"
      ],
      "text/plain": [
       "           city  attackcount\n",
       "0       Baghdad         7589\n",
       "1       Karachi         2652\n",
       "2          Lima         2359\n",
       "3         Mosul         2265\n",
       "4       Belfast         2171\n",
       "..          ...          ...\n",
       "95   Batticaloa          165\n",
       "96  Tegucigalpa          164\n",
       "98       Berlin          160\n",
       "97       Jamrud          160\n",
       "99    New Delhi          157\n",
       "\n",
       "[100 rows x 2 columns]"
      ]
     },
     "execution_count": 32,
     "metadata": {},
     "output_type": "execute_result"
    }
   ],
   "source": [
    "df= terror.city.value_counts()\n",
    "df.drop(axis=1, index='Unknown', inplace=True)\n",
    "df =df.reset_index()\n",
    "df.rename(columns={'index':'city','city':'attackcount'}, inplace= True)\n",
    "df.sort_values(by=['attackcount'],ascending=False,  inplace= True)\n",
    "top_target_cities = df.head(100)\n",
    "top_target_cities"
   ]
  },
  {
   "cell_type": "code",
   "execution_count": 33,
   "metadata": {},
   "outputs": [
    {
     "name": "stdout",
     "output_type": "stream",
     "text": [
      "(181691, 4)\n",
      "(56806, 4)\n"
     ]
    },
    {
     "name": "stderr",
     "output_type": "stream",
     "text": [
      "C:\\Users\\Reddy\\Anaconda3\\lib\\site-packages\\ipykernel_launcher.py:6: SettingWithCopyWarning: \n",
      "A value is trying to be set on a copy of a slice from a DataFrame\n",
      "\n",
      "See the caveats in the documentation: http://pandas.pydata.org/pandas-docs/stable/user_guide/indexing.html#returning-a-view-versus-a-copy\n",
      "  \n"
     ]
    }
   ],
   "source": [
    "index =0;\n",
    "\n",
    "#get lat long\n",
    "ter_city = terror[['latitude','longitude','city','Country']]\n",
    "print(ter_city.shape)\n",
    "ter_city.drop_duplicates(inplace= True)\n",
    "print(ter_city.shape)"
   ]
  },
  {
   "cell_type": "code",
   "execution_count": null,
   "metadata": {},
   "outputs": [],
   "source": [
    "merging the dataframe"
   ]
  },
  {
   "cell_type": "code",
   "execution_count": null,
   "metadata": {},
   "outputs": [],
   "source": []
  },
  {
   "cell_type": "code",
   "execution_count": 34,
   "metadata": {},
   "outputs": [
    {
     "data": {
      "text/plain": [
       "city            object\n",
       "attackcount      int64\n",
       "latitude       float64\n",
       "longitude      float64\n",
       "Country         object\n",
       "dtype: object"
      ]
     },
     "execution_count": 34,
     "metadata": {},
     "output_type": "execute_result"
    }
   ],
   "source": [
    "top100 = top_target_cities.merge(ter_city, left_on = 'city', right_on = 'city',  how = 'left')\n",
    "top100.drop_duplicates(subset=['city'],inplace=True)\n",
    "top100.sort_values(by='attackcount', ascending= False )\n",
    "top100.dropna( inplace = True)\n",
    "top100.reset_index(inplace=True) #to reset index from 0\n",
    "top100.drop(columns=['index'],inplace=True) #remove index deopped column\n",
    "top100.dtypes"
   ]
  },
  {
   "cell_type": "code",
   "execution_count": 35,
   "metadata": {},
   "outputs": [
    {
     "data": {
      "text/html": [
       "<div style=\"width:100%;\"><div style=\"position:relative;width:100%;height:0;padding-bottom:60%;\"><iframe src=\"data:text/html;charset=utf-8;base64,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\" style=\"position:absolute;width:100%;height:100%;left:0;top:0;border:none !important;\" allowfullscreen webkitallowfullscreen mozallowfullscreen></iframe></div></div>"
      ],
      "text/plain": [
       "<folium.folium.Map at 0x1c63ddbb1c8>"
      ]
     },
     "execution_count": 35,
     "metadata": {},
     "output_type": "execute_result"
    }
   ],
   "source": [
    "\n",
    "from folium.plugins import MarkerCluster\n",
    "\n",
    "\n",
    "m = folium.Map(location=[top100.iloc[0]['latitude'], top100.iloc[0]['longitude']], tiles=\"CartoDB dark_matter\", zoom_start=3)\n",
    "\n",
    "marker_cluster = MarkerCluster().add_to(m)\n",
    "\n",
    "for i in range(0,top100.shape[0]):\n",
    "    row = top100.iloc[i]\n",
    "    folium.Circle(\n",
    "      location=[row['latitude'], row['longitude']],\n",
    "      popup= row['city']+', '+row['Country']+' \\n Attack Counts: '+str(row['attackcount']),\n",
    "      radius=(int(row['attackcount']))*50,\n",
    "      color=\"#FFFFFF\",\n",
    "      fill=False,\n",
    "      fill_color='white'\n",
    "   ).add_to(m)\n",
    "m"
   ]
  },
  {
   "cell_type": "code",
   "execution_count": null,
   "metadata": {},
   "outputs": [],
   "source": [
    "Line chart"
   ]
  },
  {
   "cell_type": "code",
   "execution_count": 38,
   "metadata": {},
   "outputs": [],
   "source": [
    "\n",
    "def set_stype(figure,  xlabel=\"\", ylabel=\"\"):\n",
    "    #figure.title =\n",
    "    figure.title.align ='center'\n",
    "\n",
    "    figure.xaxis.axis_label=xlabel\n",
    "    figure.yaxis.axis_label =ylabel\n",
    "    figure.xaxis.axis_label_text_font=\"times\"\n",
    "\n",
    "    figure.yaxis.axis_label_text_font=\"times\"\n",
    "    figure.xaxis.axis_label_text_font_style =\"bold\"\n",
    "    figure.yaxis.axis_label_text_font_style =\"bold\"\n",
    "\n",
    "    figure.title.text_font = \"times\"\n",
    "    figure.title.text_font_style = \"bold\"\n"
   ]
  },
  {
   "cell_type": "code",
   "execution_count": null,
   "metadata": {},
   "outputs": [],
   "source": [
    "from bokeh.palettes import Cividis256\n",
    "#from bokeh.charts import Area, show\n",
    "df= terror.copy()\n",
    "counts = terror.Year.value_counts()\n",
    "counts.sort_index(ascending=False, inplace=True)\n",
    "\n",
    "df = terror.groupby(by='Year' ).sum()\n",
    "df.sort_index(ascending= False, inplace=True)\n",
    "df['AttackCount'] = counts\n",
    "df.reset_index(inplace=True)\n",
    "\n",
    "cols = np.empty(shape=(df.Year.shape)  , dtype=\"object\")\n",
    "source = ColumnDataSource(df)\n",
    "\n",
    "options = dict(plot_width=750, plot_height=500,\n",
    "               tools=[\"pan,wheel_zoom,box_zoom,box_select,lasso_select\", hover])\n",
    "\n",
    "\n",
    "#hover1 = HoverTool(tooltips = [ ('Casualities','@casualities'), ('Year','@Year')])\n",
    "p2 = figure(**options, title=\"Casualties by Year\") #\n",
    "p2.line( 'Year','casualities' ,color= 'red', alpha=0.8, line_width=4, source = source )\n",
    "p2.circle(x='Year',y='casualities',  fill_color= 'Colors' , size=10, source = source, line_color = 'white')\n",
    "p2.xaxis.major_label_orientation = pi/2\n",
    "set_stype(p2,  xlabel=\"Year\", ylabel= \"Casualties\" )\n",
    "\n",
    "show(p2)"
   ]
  },
  {
   "cell_type": "code",
   "execution_count": null,
   "metadata": {},
   "outputs": [],
   "source": []
  },
  {
   "cell_type": "code",
   "execution_count": null,
   "metadata": {},
   "outputs": [],
   "source": []
  },
  {
   "cell_type": "code",
   "execution_count": null,
   "metadata": {},
   "outputs": [],
   "source": []
  },
  {
   "cell_type": "code",
   "execution_count": null,
   "metadata": {},
   "outputs": [],
   "source": []
  },
  {
   "cell_type": "code",
   "execution_count": null,
   "metadata": {},
   "outputs": [],
   "source": []
  },
  {
   "cell_type": "code",
   "execution_count": null,
   "metadata": {},
   "outputs": [],
   "source": []
  },
  {
   "cell_type": "code",
   "execution_count": null,
   "metadata": {},
   "outputs": [],
   "source": []
  },
  {
   "cell_type": "code",
   "execution_count": null,
   "metadata": {},
   "outputs": [],
   "source": []
  },
  {
   "cell_type": "code",
   "execution_count": null,
   "metadata": {},
   "outputs": [],
   "source": []
  },
  {
   "cell_type": "code",
   "execution_count": null,
   "metadata": {},
   "outputs": [],
   "source": []
  },
  {
   "cell_type": "code",
   "execution_count": null,
   "metadata": {},
   "outputs": [],
   "source": []
  },
  {
   "cell_type": "code",
   "execution_count": null,
   "metadata": {},
   "outputs": [],
   "source": []
  },
  {
   "cell_type": "code",
   "execution_count": null,
   "metadata": {},
   "outputs": [],
   "source": []
  },
  {
   "cell_type": "code",
   "execution_count": null,
   "metadata": {},
   "outputs": [],
   "source": []
  },
  {
   "cell_type": "code",
   "execution_count": null,
   "metadata": {},
   "outputs": [],
   "source": []
  },
  {
   "cell_type": "code",
   "execution_count": null,
   "metadata": {},
   "outputs": [],
   "source": []
  },
  {
   "cell_type": "code",
   "execution_count": null,
   "metadata": {},
   "outputs": [],
   "source": []
  },
  {
   "cell_type": "code",
   "execution_count": null,
   "metadata": {},
   "outputs": [],
   "source": []
  },
  {
   "cell_type": "code",
   "execution_count": null,
   "metadata": {},
   "outputs": [],
   "source": []
  },
  {
   "cell_type": "code",
   "execution_count": null,
   "metadata": {},
   "outputs": [],
   "source": []
  },
  {
   "cell_type": "code",
   "execution_count": null,
   "metadata": {},
   "outputs": [],
   "source": []
  },
  {
   "cell_type": "code",
   "execution_count": null,
   "metadata": {},
   "outputs": [],
   "source": []
  },
  {
   "cell_type": "code",
   "execution_count": null,
   "metadata": {},
   "outputs": [],
   "source": []
  }
 ],
 "metadata": {
  "kernelspec": {
   "display_name": "Python 3",
   "language": "python",
   "name": "python3"
  },
  "language_info": {
   "codemirror_mode": {
    "name": "ipython",
    "version": 3
   },
   "file_extension": ".py",
   "mimetype": "text/x-python",
   "name": "python",
   "nbconvert_exporter": "python",
   "pygments_lexer": "ipython3",
   "version": "3.7.4"
  }
 },
 "nbformat": 4,
 "nbformat_minor": 2
}
